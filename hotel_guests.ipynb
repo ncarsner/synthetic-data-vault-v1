{
 "cells": [
  {
   "cell_type": "markdown",
   "id": "3d4d0b52",
   "metadata": {},
   "source": [
    "### Install SDV Community"
   ]
  },
  {
   "cell_type": "code",
   "execution_count": 1,
   "id": "0ed71469",
   "metadata": {},
   "outputs": [
    {
     "name": "stdout",
     "output_type": "stream",
     "text": [
      "Requirement already satisfied: sdv in c:\\users\\kmlee\\documents\\synthetic-data-vault-v1\\.venv\\lib\\site-packages (1.21.0)\n",
      "Requirement already satisfied: boto3<2.0.0,>=1.28 in c:\\users\\kmlee\\documents\\synthetic-data-vault-v1\\.venv\\lib\\site-packages (from sdv) (1.38.22)\n",
      "Requirement already satisfied: botocore<2.0.0,>=1.31 in c:\\users\\kmlee\\documents\\synthetic-data-vault-v1\\.venv\\lib\\site-packages (from sdv) (1.38.22)\n",
      "Requirement already satisfied: cloudpickle>=2.1.0 in c:\\users\\kmlee\\documents\\synthetic-data-vault-v1\\.venv\\lib\\site-packages (from sdv) (3.1.1)\n",
      "Requirement already satisfied: graphviz>=0.13.2 in c:\\users\\kmlee\\documents\\synthetic-data-vault-v1\\.venv\\lib\\site-packages (from sdv) (0.20.3)\n",
      "Requirement already satisfied: numpy>=1.26.0 in c:\\users\\kmlee\\documents\\synthetic-data-vault-v1\\.venv\\lib\\site-packages (from sdv) (2.2.6)\n",
      "Requirement already satisfied: pandas>=2.1.1 in c:\\users\\kmlee\\documents\\synthetic-data-vault-v1\\.venv\\lib\\site-packages (from sdv) (2.2.3)\n",
      "Requirement already satisfied: tqdm>=4.29 in c:\\users\\kmlee\\documents\\synthetic-data-vault-v1\\.venv\\lib\\site-packages (from sdv) (4.67.1)\n",
      "Requirement already satisfied: copulas>=0.12.1 in c:\\users\\kmlee\\documents\\synthetic-data-vault-v1\\.venv\\lib\\site-packages (from sdv) (0.12.2)\n",
      "Requirement already satisfied: ctgan>=0.11.0 in c:\\users\\kmlee\\documents\\synthetic-data-vault-v1\\.venv\\lib\\site-packages (from sdv) (0.11.0)\n",
      "Requirement already satisfied: deepecho>=0.7.0 in c:\\users\\kmlee\\documents\\synthetic-data-vault-v1\\.venv\\lib\\site-packages (from sdv) (0.7.0)\n",
      "Requirement already satisfied: rdt>=1.17.0 in c:\\users\\kmlee\\documents\\synthetic-data-vault-v1\\.venv\\lib\\site-packages (from sdv) (1.17.0)\n",
      "Requirement already satisfied: sdmetrics>=0.20.1 in c:\\users\\kmlee\\documents\\synthetic-data-vault-v1\\.venv\\lib\\site-packages (from sdv) (0.20.1)\n",
      "Requirement already satisfied: platformdirs>=4.0 in c:\\users\\kmlee\\documents\\synthetic-data-vault-v1\\.venv\\lib\\site-packages (from sdv) (4.3.8)\n",
      "Requirement already satisfied: pyyaml>=6.0.1 in c:\\users\\kmlee\\documents\\synthetic-data-vault-v1\\.venv\\lib\\site-packages (from sdv) (6.0.2)\n",
      "Requirement already satisfied: jmespath<2.0.0,>=0.7.1 in c:\\users\\kmlee\\documents\\synthetic-data-vault-v1\\.venv\\lib\\site-packages (from boto3<2.0.0,>=1.28->sdv) (1.0.1)\n",
      "Requirement already satisfied: s3transfer<0.14.0,>=0.13.0 in c:\\users\\kmlee\\documents\\synthetic-data-vault-v1\\.venv\\lib\\site-packages (from boto3<2.0.0,>=1.28->sdv) (0.13.0)\n",
      "Requirement already satisfied: python-dateutil<3.0.0,>=2.1 in c:\\users\\kmlee\\documents\\synthetic-data-vault-v1\\.venv\\lib\\site-packages (from botocore<2.0.0,>=1.31->sdv) (2.9.0.post0)\n",
      "Requirement already satisfied: urllib3!=2.2.0,<3,>=1.25.4 in c:\\users\\kmlee\\documents\\synthetic-data-vault-v1\\.venv\\lib\\site-packages (from botocore<2.0.0,>=1.31->sdv) (2.4.0)\n",
      "Requirement already satisfied: six>=1.5 in c:\\users\\kmlee\\documents\\synthetic-data-vault-v1\\.venv\\lib\\site-packages (from python-dateutil<3.0.0,>=2.1->botocore<2.0.0,>=1.31->sdv) (1.17.0)\n",
      "Requirement already satisfied: plotly>=5.10.0 in c:\\users\\kmlee\\documents\\synthetic-data-vault-v1\\.venv\\lib\\site-packages (from copulas>=0.12.1->sdv) (6.1.1)\n",
      "Requirement already satisfied: scipy>=1.12.0 in c:\\users\\kmlee\\documents\\synthetic-data-vault-v1\\.venv\\lib\\site-packages (from copulas>=0.12.1->sdv) (1.15.3)\n",
      "Requirement already satisfied: torch>=2.2.0 in c:\\users\\kmlee\\documents\\synthetic-data-vault-v1\\.venv\\lib\\site-packages (from ctgan>=0.11.0->sdv) (2.7.0)\n",
      "Requirement already satisfied: colorama in c:\\users\\kmlee\\documents\\synthetic-data-vault-v1\\.venv\\lib\\site-packages (from tqdm>=4.29->sdv) (0.4.6)\n",
      "Requirement already satisfied: pytz>=2020.1 in c:\\users\\kmlee\\documents\\synthetic-data-vault-v1\\.venv\\lib\\site-packages (from pandas>=2.1.1->sdv) (2025.2)\n",
      "Requirement already satisfied: tzdata>=2022.7 in c:\\users\\kmlee\\documents\\synthetic-data-vault-v1\\.venv\\lib\\site-packages (from pandas>=2.1.1->sdv) (2025.2)\n",
      "Requirement already satisfied: narwhals>=1.15.1 in c:\\users\\kmlee\\documents\\synthetic-data-vault-v1\\.venv\\lib\\site-packages (from plotly>=5.10.0->copulas>=0.12.1->sdv) (1.40.0)\n",
      "Requirement already satisfied: packaging in c:\\users\\kmlee\\documents\\synthetic-data-vault-v1\\.venv\\lib\\site-packages (from plotly>=5.10.0->copulas>=0.12.1->sdv) (25.0)\n",
      "Requirement already satisfied: scikit-learn>=1.3.1 in c:\\users\\kmlee\\documents\\synthetic-data-vault-v1\\.venv\\lib\\site-packages (from rdt>=1.17.0->sdv) (1.6.1)\n",
      "Requirement already satisfied: Faker>=17 in c:\\users\\kmlee\\documents\\synthetic-data-vault-v1\\.venv\\lib\\site-packages (from rdt>=1.17.0->sdv) (37.3.0)\n",
      "Requirement already satisfied: joblib>=1.2.0 in c:\\users\\kmlee\\documents\\synthetic-data-vault-v1\\.venv\\lib\\site-packages (from scikit-learn>=1.3.1->rdt>=1.17.0->sdv) (1.5.1)\n",
      "Requirement already satisfied: threadpoolctl>=3.1.0 in c:\\users\\kmlee\\documents\\synthetic-data-vault-v1\\.venv\\lib\\site-packages (from scikit-learn>=1.3.1->rdt>=1.17.0->sdv) (3.6.0)\n",
      "Requirement already satisfied: filelock in c:\\users\\kmlee\\documents\\synthetic-data-vault-v1\\.venv\\lib\\site-packages (from torch>=2.2.0->ctgan>=0.11.0->sdv) (3.18.0)\n",
      "Requirement already satisfied: typing-extensions>=4.10.0 in c:\\users\\kmlee\\documents\\synthetic-data-vault-v1\\.venv\\lib\\site-packages (from torch>=2.2.0->ctgan>=0.11.0->sdv) (4.13.2)\n",
      "Requirement already satisfied: sympy>=1.13.3 in c:\\users\\kmlee\\documents\\synthetic-data-vault-v1\\.venv\\lib\\site-packages (from torch>=2.2.0->ctgan>=0.11.0->sdv) (1.14.0)\n",
      "Requirement already satisfied: networkx in c:\\users\\kmlee\\documents\\synthetic-data-vault-v1\\.venv\\lib\\site-packages (from torch>=2.2.0->ctgan>=0.11.0->sdv) (3.4.2)\n",
      "Requirement already satisfied: jinja2 in c:\\users\\kmlee\\documents\\synthetic-data-vault-v1\\.venv\\lib\\site-packages (from torch>=2.2.0->ctgan>=0.11.0->sdv) (3.1.6)\n",
      "Requirement already satisfied: fsspec in c:\\users\\kmlee\\documents\\synthetic-data-vault-v1\\.venv\\lib\\site-packages (from torch>=2.2.0->ctgan>=0.11.0->sdv) (2025.5.0)\n",
      "Requirement already satisfied: setuptools in c:\\users\\kmlee\\documents\\synthetic-data-vault-v1\\.venv\\lib\\site-packages (from torch>=2.2.0->ctgan>=0.11.0->sdv) (80.8.0)\n",
      "Requirement already satisfied: mpmath<1.4,>=1.1.0 in c:\\users\\kmlee\\documents\\synthetic-data-vault-v1\\.venv\\lib\\site-packages (from sympy>=1.13.3->torch>=2.2.0->ctgan>=0.11.0->sdv) (1.3.0)\n",
      "Requirement already satisfied: MarkupSafe>=2.0 in c:\\users\\kmlee\\documents\\synthetic-data-vault-v1\\.venv\\lib\\site-packages (from jinja2->torch>=2.2.0->ctgan>=0.11.0->sdv) (3.0.2)\n",
      "Note: you may need to restart the kernel to use updated packages.\n"
     ]
    }
   ],
   "source": [
    "%pip install sdv"
   ]
  },
  {
   "cell_type": "markdown",
   "id": "2c5cbf72",
   "metadata": {},
   "source": [
    "### Install ipykernal && nbformat to avoid Mime type rendering issues with visualizations\n",
    "* `ValueError: Mime type rendering requires nbformat>=4.2.0 but it is not installed`"
   ]
  },
  {
   "cell_type": "code",
   "execution_count": 2,
   "id": "a1b9cafa",
   "metadata": {},
   "outputs": [
    {
     "name": "stdout",
     "output_type": "stream",
     "text": [
      "Requirement already satisfied: ipykernel in c:\\users\\kmlee\\documents\\synthetic-data-vault-v1\\.venv\\lib\\site-packages (6.29.5)\n",
      "Requirement already satisfied: comm>=0.1.1 in c:\\users\\kmlee\\documents\\synthetic-data-vault-v1\\.venv\\lib\\site-packages (from ipykernel) (0.2.2)\n",
      "Requirement already satisfied: debugpy>=1.6.5 in c:\\users\\kmlee\\documents\\synthetic-data-vault-v1\\.venv\\lib\\site-packages (from ipykernel) (1.8.14)\n",
      "Requirement already satisfied: ipython>=7.23.1 in c:\\users\\kmlee\\documents\\synthetic-data-vault-v1\\.venv\\lib\\site-packages (from ipykernel) (9.2.0)\n",
      "Requirement already satisfied: jupyter-client>=6.1.12 in c:\\users\\kmlee\\documents\\synthetic-data-vault-v1\\.venv\\lib\\site-packages (from ipykernel) (8.6.3)\n",
      "Requirement already satisfied: jupyter-core!=5.0.*,>=4.12 in c:\\users\\kmlee\\documents\\synthetic-data-vault-v1\\.venv\\lib\\site-packages (from ipykernel) (5.7.2)\n",
      "Requirement already satisfied: matplotlib-inline>=0.1 in c:\\users\\kmlee\\documents\\synthetic-data-vault-v1\\.venv\\lib\\site-packages (from ipykernel) (0.1.7)\n",
      "Requirement already satisfied: nest-asyncio in c:\\users\\kmlee\\documents\\synthetic-data-vault-v1\\.venv\\lib\\site-packages (from ipykernel) (1.6.0)\n",
      "Requirement already satisfied: packaging in c:\\users\\kmlee\\documents\\synthetic-data-vault-v1\\.venv\\lib\\site-packages (from ipykernel) (25.0)\n",
      "Requirement already satisfied: psutil in c:\\users\\kmlee\\documents\\synthetic-data-vault-v1\\.venv\\lib\\site-packages (from ipykernel) (7.0.0)\n",
      "Requirement already satisfied: pyzmq>=24 in c:\\users\\kmlee\\documents\\synthetic-data-vault-v1\\.venv\\lib\\site-packages (from ipykernel) (26.4.0)\n",
      "Requirement already satisfied: tornado>=6.1 in c:\\users\\kmlee\\documents\\synthetic-data-vault-v1\\.venv\\lib\\site-packages (from ipykernel) (6.5.1)\n",
      "Requirement already satisfied: traitlets>=5.4.0 in c:\\users\\kmlee\\documents\\synthetic-data-vault-v1\\.venv\\lib\\site-packages (from ipykernel) (5.14.3)\n",
      "Requirement already satisfied: colorama in c:\\users\\kmlee\\documents\\synthetic-data-vault-v1\\.venv\\lib\\site-packages (from ipython>=7.23.1->ipykernel) (0.4.6)\n",
      "Requirement already satisfied: decorator in c:\\users\\kmlee\\documents\\synthetic-data-vault-v1\\.venv\\lib\\site-packages (from ipython>=7.23.1->ipykernel) (5.2.1)\n",
      "Requirement already satisfied: ipython-pygments-lexers in c:\\users\\kmlee\\documents\\synthetic-data-vault-v1\\.venv\\lib\\site-packages (from ipython>=7.23.1->ipykernel) (1.1.1)\n",
      "Requirement already satisfied: jedi>=0.16 in c:\\users\\kmlee\\documents\\synthetic-data-vault-v1\\.venv\\lib\\site-packages (from ipython>=7.23.1->ipykernel) (0.19.2)\n",
      "Requirement already satisfied: prompt_toolkit<3.1.0,>=3.0.41 in c:\\users\\kmlee\\documents\\synthetic-data-vault-v1\\.venv\\lib\\site-packages (from ipython>=7.23.1->ipykernel) (3.0.51)\n",
      "Requirement already satisfied: pygments>=2.4.0 in c:\\users\\kmlee\\documents\\synthetic-data-vault-v1\\.venv\\lib\\site-packages (from ipython>=7.23.1->ipykernel) (2.19.1)\n",
      "Requirement already satisfied: stack_data in c:\\users\\kmlee\\documents\\synthetic-data-vault-v1\\.venv\\lib\\site-packages (from ipython>=7.23.1->ipykernel) (0.6.3)\n",
      "Requirement already satisfied: wcwidth in c:\\users\\kmlee\\documents\\synthetic-data-vault-v1\\.venv\\lib\\site-packages (from prompt_toolkit<3.1.0,>=3.0.41->ipython>=7.23.1->ipykernel) (0.2.13)\n",
      "Requirement already satisfied: parso<0.9.0,>=0.8.4 in c:\\users\\kmlee\\documents\\synthetic-data-vault-v1\\.venv\\lib\\site-packages (from jedi>=0.16->ipython>=7.23.1->ipykernel) (0.8.4)\n",
      "Requirement already satisfied: python-dateutil>=2.8.2 in c:\\users\\kmlee\\documents\\synthetic-data-vault-v1\\.venv\\lib\\site-packages (from jupyter-client>=6.1.12->ipykernel) (2.9.0.post0)\n",
      "Requirement already satisfied: platformdirs>=2.5 in c:\\users\\kmlee\\documents\\synthetic-data-vault-v1\\.venv\\lib\\site-packages (from jupyter-core!=5.0.*,>=4.12->ipykernel) (4.3.8)\n",
      "Requirement already satisfied: pywin32>=300 in c:\\users\\kmlee\\documents\\synthetic-data-vault-v1\\.venv\\lib\\site-packages (from jupyter-core!=5.0.*,>=4.12->ipykernel) (310)\n",
      "Requirement already satisfied: six>=1.5 in c:\\users\\kmlee\\documents\\synthetic-data-vault-v1\\.venv\\lib\\site-packages (from python-dateutil>=2.8.2->jupyter-client>=6.1.12->ipykernel) (1.17.0)\n",
      "Requirement already satisfied: executing>=1.2.0 in c:\\users\\kmlee\\documents\\synthetic-data-vault-v1\\.venv\\lib\\site-packages (from stack_data->ipython>=7.23.1->ipykernel) (2.2.0)\n",
      "Requirement already satisfied: asttokens>=2.1.0 in c:\\users\\kmlee\\documents\\synthetic-data-vault-v1\\.venv\\lib\\site-packages (from stack_data->ipython>=7.23.1->ipykernel) (3.0.0)\n",
      "Requirement already satisfied: pure-eval in c:\\users\\kmlee\\documents\\synthetic-data-vault-v1\\.venv\\lib\\site-packages (from stack_data->ipython>=7.23.1->ipykernel) (0.2.3)\n",
      "Note: you may need to restart the kernel to use updated packages.\n",
      "Requirement already satisfied: nbformat in c:\\users\\kmlee\\documents\\synthetic-data-vault-v1\\.venv\\lib\\site-packages (5.10.4)\n",
      "Requirement already satisfied: fastjsonschema>=2.15 in c:\\users\\kmlee\\documents\\synthetic-data-vault-v1\\.venv\\lib\\site-packages (from nbformat) (2.21.1)\n",
      "Requirement already satisfied: jsonschema>=2.6 in c:\\users\\kmlee\\documents\\synthetic-data-vault-v1\\.venv\\lib\\site-packages (from nbformat) (4.23.0)\n",
      "Requirement already satisfied: jupyter-core!=5.0.*,>=4.12 in c:\\users\\kmlee\\documents\\synthetic-data-vault-v1\\.venv\\lib\\site-packages (from nbformat) (5.7.2)\n",
      "Requirement already satisfied: traitlets>=5.1 in c:\\users\\kmlee\\documents\\synthetic-data-vault-v1\\.venv\\lib\\site-packages (from nbformat) (5.14.3)\n",
      "Requirement already satisfied: attrs>=22.2.0 in c:\\users\\kmlee\\documents\\synthetic-data-vault-v1\\.venv\\lib\\site-packages (from jsonschema>=2.6->nbformat) (25.3.0)\n",
      "Requirement already satisfied: jsonschema-specifications>=2023.03.6 in c:\\users\\kmlee\\documents\\synthetic-data-vault-v1\\.venv\\lib\\site-packages (from jsonschema>=2.6->nbformat) (2025.4.1)\n",
      "Requirement already satisfied: referencing>=0.28.4 in c:\\users\\kmlee\\documents\\synthetic-data-vault-v1\\.venv\\lib\\site-packages (from jsonschema>=2.6->nbformat) (0.36.2)\n",
      "Requirement already satisfied: rpds-py>=0.7.1 in c:\\users\\kmlee\\documents\\synthetic-data-vault-v1\\.venv\\lib\\site-packages (from jsonschema>=2.6->nbformat) (0.25.1)\n",
      "Requirement already satisfied: platformdirs>=2.5 in c:\\users\\kmlee\\documents\\synthetic-data-vault-v1\\.venv\\lib\\site-packages (from jupyter-core!=5.0.*,>=4.12->nbformat) (4.3.8)\n",
      "Requirement already satisfied: pywin32>=300 in c:\\users\\kmlee\\documents\\synthetic-data-vault-v1\\.venv\\lib\\site-packages (from jupyter-core!=5.0.*,>=4.12->nbformat) (310)\n",
      "Requirement already satisfied: typing-extensions>=4.4.0 in c:\\users\\kmlee\\documents\\synthetic-data-vault-v1\\.venv\\lib\\site-packages (from referencing>=0.28.4->jsonschema>=2.6->nbformat) (4.13.2)\n",
      "Note: you may need to restart the kernel to use updated packages.\n"
     ]
    }
   ],
   "source": [
    "%pip install ipykernel\n",
    "%pip install --upgrade nbformat"
   ]
  },
  {
   "cell_type": "markdown",
   "id": "d55669a5",
   "metadata": {},
   "source": [
    "### Load demo data"
   ]
  },
  {
   "cell_type": "code",
   "execution_count": 3,
   "id": "4cde219e",
   "metadata": {},
   "outputs": [],
   "source": [
    "from sdv.datasets.demo import download_demo\n",
    "\n",
    "real_data, metadata = download_demo(\n",
    "    modality='single_table',\n",
    "    dataset_name='fake_hotel_guests'\n",
    ")"
   ]
  },
  {
   "cell_type": "markdown",
   "id": "fb7c0ff5",
   "metadata": {},
   "source": [
    "### Preview demo data"
   ]
  },
  {
   "cell_type": "code",
   "execution_count": 4,
   "id": "66a7d3fb",
   "metadata": {},
   "outputs": [
    {
     "data": {
      "text/html": [
       "<div>\n",
       "<style scoped>\n",
       "    .dataframe tbody tr th:only-of-type {\n",
       "        vertical-align: middle;\n",
       "    }\n",
       "\n",
       "    .dataframe tbody tr th {\n",
       "        vertical-align: top;\n",
       "    }\n",
       "\n",
       "    .dataframe thead th {\n",
       "        text-align: right;\n",
       "    }\n",
       "</style>\n",
       "<table border=\"1\" class=\"dataframe\">\n",
       "  <thead>\n",
       "    <tr style=\"text-align: right;\">\n",
       "      <th></th>\n",
       "      <th>guest_email</th>\n",
       "      <th>has_rewards</th>\n",
       "      <th>room_type</th>\n",
       "      <th>amenities_fee</th>\n",
       "      <th>checkin_date</th>\n",
       "      <th>checkout_date</th>\n",
       "      <th>room_rate</th>\n",
       "      <th>billing_address</th>\n",
       "      <th>credit_card_number</th>\n",
       "    </tr>\n",
       "  </thead>\n",
       "  <tbody>\n",
       "    <tr>\n",
       "      <th>0</th>\n",
       "      <td>michaelsanders@shaw.net</td>\n",
       "      <td>False</td>\n",
       "      <td>BASIC</td>\n",
       "      <td>37.89</td>\n",
       "      <td>27 Dec 2020</td>\n",
       "      <td>29 Dec 2020</td>\n",
       "      <td>131.23</td>\n",
       "      <td>49380 Rivers Street\\nSpencerville, AK 68265</td>\n",
       "      <td>4075084747483975747</td>\n",
       "    </tr>\n",
       "    <tr>\n",
       "      <th>1</th>\n",
       "      <td>randy49@brown.biz</td>\n",
       "      <td>False</td>\n",
       "      <td>BASIC</td>\n",
       "      <td>24.37</td>\n",
       "      <td>30 Dec 2020</td>\n",
       "      <td>02 Jan 2021</td>\n",
       "      <td>114.43</td>\n",
       "      <td>88394 Boyle Meadows\\nConleyberg, TN 22063</td>\n",
       "      <td>180072822063468</td>\n",
       "    </tr>\n",
       "    <tr>\n",
       "      <th>2</th>\n",
       "      <td>webermelissa@neal.com</td>\n",
       "      <td>True</td>\n",
       "      <td>DELUXE</td>\n",
       "      <td>0.00</td>\n",
       "      <td>17 Sep 2020</td>\n",
       "      <td>18 Sep 2020</td>\n",
       "      <td>368.33</td>\n",
       "      <td>0323 Lisa Station Apt. 208\\nPort Thomas, LA 82585</td>\n",
       "      <td>38983476971380</td>\n",
       "    </tr>\n",
       "    <tr>\n",
       "      <th>3</th>\n",
       "      <td>gsims@terry.com</td>\n",
       "      <td>False</td>\n",
       "      <td>BASIC</td>\n",
       "      <td>NaN</td>\n",
       "      <td>28 Dec 2020</td>\n",
       "      <td>31 Dec 2020</td>\n",
       "      <td>115.61</td>\n",
       "      <td>77 Massachusetts Ave\\nCambridge, MA 02139</td>\n",
       "      <td>4969551998845740</td>\n",
       "    </tr>\n",
       "    <tr>\n",
       "      <th>4</th>\n",
       "      <td>misty33@smith.biz</td>\n",
       "      <td>False</td>\n",
       "      <td>BASIC</td>\n",
       "      <td>16.45</td>\n",
       "      <td>05 Apr 2020</td>\n",
       "      <td>NaN</td>\n",
       "      <td>122.41</td>\n",
       "      <td>1234 Corporate Drive\\nBoston, MA 02116</td>\n",
       "      <td>3558512986488983</td>\n",
       "    </tr>\n",
       "  </tbody>\n",
       "</table>\n",
       "</div>"
      ],
      "text/plain": [
       "               guest_email  has_rewards room_type  amenities_fee checkin_date  \\\n",
       "0  michaelsanders@shaw.net        False     BASIC          37.89  27 Dec 2020   \n",
       "1        randy49@brown.biz        False     BASIC          24.37  30 Dec 2020   \n",
       "2    webermelissa@neal.com         True    DELUXE           0.00  17 Sep 2020   \n",
       "3          gsims@terry.com        False     BASIC            NaN  28 Dec 2020   \n",
       "4        misty33@smith.biz        False     BASIC          16.45  05 Apr 2020   \n",
       "\n",
       "  checkout_date  room_rate                                    billing_address  \\\n",
       "0   29 Dec 2020     131.23        49380 Rivers Street\\nSpencerville, AK 68265   \n",
       "1   02 Jan 2021     114.43          88394 Boyle Meadows\\nConleyberg, TN 22063   \n",
       "2   18 Sep 2020     368.33  0323 Lisa Station Apt. 208\\nPort Thomas, LA 82585   \n",
       "3   31 Dec 2020     115.61          77 Massachusetts Ave\\nCambridge, MA 02139   \n",
       "4           NaN     122.41             1234 Corporate Drive\\nBoston, MA 02116   \n",
       "\n",
       "    credit_card_number  \n",
       "0  4075084747483975747  \n",
       "1      180072822063468  \n",
       "2       38983476971380  \n",
       "3     4969551998845740  \n",
       "4     3558512986488983  "
      ]
     },
     "execution_count": 4,
     "metadata": {},
     "output_type": "execute_result"
    }
   ],
   "source": [
    "real_data.head()"
   ]
  },
  {
   "cell_type": "markdown",
   "id": "aef2d4d5",
   "metadata": {},
   "source": [
    "### Visualize metadata"
   ]
  },
  {
   "cell_type": "code",
   "execution_count": 5,
   "id": "e8ed3b75",
   "metadata": {},
   "outputs": [
    {
     "data": {
      "image/svg+xml": [
       "<?xml version=\"1.0\" encoding=\"UTF-8\" standalone=\"no\"?>\n",
       "<!DOCTYPE svg PUBLIC \"-//W3C//DTD SVG 1.1//EN\"\n",
       " \"http://www.w3.org/Graphics/SVG/1.1/DTD/svg11.dtd\">\n",
       "<!-- Generated by graphviz version 12.2.1 (20241206.2353)\n",
       " -->\n",
       "<!-- Title: Metadata Pages: 1 -->\n",
       "<svg width=\"254pt\" height=\"215pt\"\n",
       " viewBox=\"0.00 0.00 254.25 214.50\" xmlns=\"http://www.w3.org/2000/svg\" xmlns:xlink=\"http://www.w3.org/1999/xlink\">\n",
       "<g id=\"graph0\" class=\"graph\" transform=\"scale(1 1) rotate(0) translate(4 210.5)\">\n",
       "<title>Metadata</title>\n",
       "<polygon fill=\"white\" stroke=\"none\" points=\"-4,4 -4,-210.5 250.25,-210.5 250.25,4 -4,4\"/>\n",
       "<!-- fake_hotel_guests -->\n",
       "<g id=\"node1\" class=\"node\">\n",
       "<title>fake_hotel_guests</title>\n",
       "<path fill=\"#ffec8b\" stroke=\"black\" d=\"M12,-0.5C12,-0.5 234.25,-0.5 234.25,-0.5 240.25,-0.5 246.25,-6.5 246.25,-12.5 246.25,-12.5 246.25,-194 246.25,-194 246.25,-200 240.25,-206 234.25,-206 234.25,-206 12,-206 12,-206 6,-206 0,-200 0,-194 0,-194 0,-12.5 0,-12.5 0,-6.5 6,-0.5 12,-0.5\"/>\n",
       "<text text-anchor=\"middle\" x=\"123.12\" y=\"-188.7\" font-family=\"Times New Roman,serif\" font-size=\"14.00\">fake_hotel_guests</text>\n",
       "<polyline fill=\"none\" stroke=\"black\" points=\"0,-181.5 246.25,-181.5\"/>\n",
       "<text text-anchor=\"start\" x=\"8\" y=\"-164.2\" font-family=\"Times New Roman,serif\" font-size=\"14.00\">guest_email : email</text>\n",
       "<text text-anchor=\"start\" x=\"8\" y=\"-147.7\" font-family=\"Times New Roman,serif\" font-size=\"14.00\">has_rewards : boolean</text>\n",
       "<text text-anchor=\"start\" x=\"8\" y=\"-131.2\" font-family=\"Times New Roman,serif\" font-size=\"14.00\">room_type : categorical</text>\n",
       "<text text-anchor=\"start\" x=\"8\" y=\"-114.7\" font-family=\"Times New Roman,serif\" font-size=\"14.00\">amenities_fee : numerical</text>\n",
       "<text text-anchor=\"start\" x=\"8\" y=\"-98.2\" font-family=\"Times New Roman,serif\" font-size=\"14.00\">checkin_date : datetime</text>\n",
       "<text text-anchor=\"start\" x=\"8\" y=\"-81.7\" font-family=\"Times New Roman,serif\" font-size=\"14.00\">checkout_date : datetime</text>\n",
       "<text text-anchor=\"start\" x=\"8\" y=\"-65.2\" font-family=\"Times New Roman,serif\" font-size=\"14.00\">room_rate : numerical</text>\n",
       "<text text-anchor=\"start\" x=\"8\" y=\"-48.7\" font-family=\"Times New Roman,serif\" font-size=\"14.00\">billing_address : address</text>\n",
       "<text text-anchor=\"start\" x=\"8\" y=\"-32.2\" font-family=\"Times New Roman,serif\" font-size=\"14.00\">credit_card_number : credit_card_number</text>\n",
       "<polyline fill=\"none\" stroke=\"black\" points=\"0,-25 246.25,-25\"/>\n",
       "<text text-anchor=\"start\" x=\"8\" y=\"-7.7\" font-family=\"Times New Roman,serif\" font-size=\"14.00\">Primary key: guest_email</text>\n",
       "</g>\n",
       "</g>\n",
       "</svg>\n"
      ],
      "text/plain": [
       "<graphviz.graphs.Digraph at 0x167281f2660>"
      ]
     },
     "execution_count": 5,
     "metadata": {},
     "output_type": "execute_result"
    }
   ],
   "source": [
    "metadata.visualize()"
   ]
  },
  {
   "cell_type": "markdown",
   "id": "04df9181",
   "metadata": {},
   "source": [
    "### Create a synthesizer"
   ]
  },
  {
   "cell_type": "code",
   "execution_count": 6,
   "id": "bea025bc",
   "metadata": {},
   "outputs": [],
   "source": [
    "from sdv.single_table import GaussianCopulaSynthesizer\n",
    "\n",
    "synthesizer = GaussianCopulaSynthesizer(metadata)\n",
    "synthesizer.fit(real_data)"
   ]
  },
  {
   "cell_type": "markdown",
   "id": "1b32d4f3",
   "metadata": {},
   "source": [
    "### Generate synthetic data"
   ]
  },
  {
   "cell_type": "code",
   "execution_count": 7,
   "id": "ea2bff95",
   "metadata": {},
   "outputs": [
    {
     "data": {
      "text/html": [
       "<div>\n",
       "<style scoped>\n",
       "    .dataframe tbody tr th:only-of-type {\n",
       "        vertical-align: middle;\n",
       "    }\n",
       "\n",
       "    .dataframe tbody tr th {\n",
       "        vertical-align: top;\n",
       "    }\n",
       "\n",
       "    .dataframe thead th {\n",
       "        text-align: right;\n",
       "    }\n",
       "</style>\n",
       "<table border=\"1\" class=\"dataframe\">\n",
       "  <thead>\n",
       "    <tr style=\"text-align: right;\">\n",
       "      <th></th>\n",
       "      <th>guest_email</th>\n",
       "      <th>has_rewards</th>\n",
       "      <th>room_type</th>\n",
       "      <th>amenities_fee</th>\n",
       "      <th>checkin_date</th>\n",
       "      <th>checkout_date</th>\n",
       "      <th>room_rate</th>\n",
       "      <th>billing_address</th>\n",
       "      <th>credit_card_number</th>\n",
       "    </tr>\n",
       "  </thead>\n",
       "  <tbody>\n",
       "    <tr>\n",
       "      <th>0</th>\n",
       "      <td>dsullivan@example.net</td>\n",
       "      <td>False</td>\n",
       "      <td>BASIC</td>\n",
       "      <td>0.29</td>\n",
       "      <td>27 Mar 2020</td>\n",
       "      <td>09 Mar 2020</td>\n",
       "      <td>135.15</td>\n",
       "      <td>90469 Karla Knolls Apt. 781\\nSusanberg, CA 70033</td>\n",
       "      <td>5161033759518983</td>\n",
       "    </tr>\n",
       "    <tr>\n",
       "      <th>1</th>\n",
       "      <td>steven59@example.org</td>\n",
       "      <td>False</td>\n",
       "      <td>DELUXE</td>\n",
       "      <td>8.15</td>\n",
       "      <td>07 Sep 2020</td>\n",
       "      <td>25 Jun 2020</td>\n",
       "      <td>183.24</td>\n",
       "      <td>6108 Carla Ports Apt. 116\\nPort Evan, MI 71694</td>\n",
       "      <td>4133047413145475690</td>\n",
       "    </tr>\n",
       "    <tr>\n",
       "      <th>2</th>\n",
       "      <td>brandon15@example.net</td>\n",
       "      <td>False</td>\n",
       "      <td>BASIC</td>\n",
       "      <td>11.65</td>\n",
       "      <td>22 Mar 2020</td>\n",
       "      <td>01 Apr 2020</td>\n",
       "      <td>163.57</td>\n",
       "      <td>86709 Jeremy Manors Apt. 786\\nPort Garychester...</td>\n",
       "      <td>4977328103788</td>\n",
       "    </tr>\n",
       "    <tr>\n",
       "      <th>3</th>\n",
       "      <td>humphreyjennifer@example.net</td>\n",
       "      <td>False</td>\n",
       "      <td>BASIC</td>\n",
       "      <td>48.12</td>\n",
       "      <td>04 Jun 2020</td>\n",
       "      <td>14 May 2020</td>\n",
       "      <td>127.75</td>\n",
       "      <td>8906 Bobby Trail\\nEast Sandra, NY 43986</td>\n",
       "      <td>3524946844839485</td>\n",
       "    </tr>\n",
       "    <tr>\n",
       "      <th>4</th>\n",
       "      <td>joshuabrown@example.net</td>\n",
       "      <td>False</td>\n",
       "      <td>DELUXE</td>\n",
       "      <td>11.07</td>\n",
       "      <td>08 Jan 2020</td>\n",
       "      <td>13 Jan 2020</td>\n",
       "      <td>180.12</td>\n",
       "      <td>732 Dennis Lane\\nPort Nicholasstad, DE 49786</td>\n",
       "      <td>4446905799576890978</td>\n",
       "    </tr>\n",
       "  </tbody>\n",
       "</table>\n",
       "</div>"
      ],
      "text/plain": [
       "                    guest_email  has_rewards room_type  amenities_fee  \\\n",
       "0         dsullivan@example.net        False     BASIC           0.29   \n",
       "1          steven59@example.org        False    DELUXE           8.15   \n",
       "2         brandon15@example.net        False     BASIC          11.65   \n",
       "3  humphreyjennifer@example.net        False     BASIC          48.12   \n",
       "4       joshuabrown@example.net        False    DELUXE          11.07   \n",
       "\n",
       "  checkin_date checkout_date  room_rate  \\\n",
       "0  27 Mar 2020   09 Mar 2020     135.15   \n",
       "1  07 Sep 2020   25 Jun 2020     183.24   \n",
       "2  22 Mar 2020   01 Apr 2020     163.57   \n",
       "3  04 Jun 2020   14 May 2020     127.75   \n",
       "4  08 Jan 2020   13 Jan 2020     180.12   \n",
       "\n",
       "                                     billing_address   credit_card_number  \n",
       "0   90469 Karla Knolls Apt. 781\\nSusanberg, CA 70033     5161033759518983  \n",
       "1     6108 Carla Ports Apt. 116\\nPort Evan, MI 71694  4133047413145475690  \n",
       "2  86709 Jeremy Manors Apt. 786\\nPort Garychester...        4977328103788  \n",
       "3            8906 Bobby Trail\\nEast Sandra, NY 43986     3524946844839485  \n",
       "4       732 Dennis Lane\\nPort Nicholasstad, DE 49786  4446905799576890978  "
      ]
     },
     "execution_count": 7,
     "metadata": {},
     "output_type": "execute_result"
    }
   ],
   "source": [
    "synthetic_data = synthesizer.sample(num_rows=500)\n",
    "synthetic_data.head()"
   ]
  },
  {
   "cell_type": "markdown",
   "id": "ec2ec1a0",
   "metadata": {},
   "source": [
    "### Evaluate real vs. synthetic data\n",
    "* Run diagnostic to ensure data is valid"
   ]
  },
  {
   "cell_type": "code",
   "execution_count": 8,
   "id": "7634033d",
   "metadata": {},
   "outputs": [
    {
     "name": "stdout",
     "output_type": "stream",
     "text": [
      "Generating report ...\n",
      "\n",
      "(1/2) Evaluating Data Validity: |██████████| 9/9 [00:00<00:00, 495.80it/s]|\n",
      "Data Validity Score: 100.0%\n",
      "\n",
      "(2/2) Evaluating Data Structure: |██████████| 1/1 [00:00<?, ?it/s]|\n",
      "Data Structure Score: 100.0%\n",
      "\n",
      "Overall Score (Average): 100.0%\n",
      "\n"
     ]
    }
   ],
   "source": [
    "from sdv.evaluation.single_table import run_diagnostic\n",
    "\n",
    "diagnostic = run_diagnostic(\n",
    "    real_data=real_data,\n",
    "    synthetic_data=synthetic_data,\n",
    "    metadata=metadata\n",
    ")"
   ]
  },
  {
   "cell_type": "markdown",
   "id": "2d877f55",
   "metadata": {},
   "source": [
    "* Measure data quality between real and synthetic data"
   ]
  },
  {
   "cell_type": "code",
   "execution_count": 9,
   "id": "1b75f753",
   "metadata": {},
   "outputs": [
    {
     "name": "stdout",
     "output_type": "stream",
     "text": [
      "Generating report ...\n",
      "\n",
      "(1/2) Evaluating Column Shapes: |██████████| 9/9 [00:00<00:00, 519.20it/s]|\n",
      "Column Shapes Score: 90.06%\n",
      "\n",
      "(2/2) Evaluating Column Pair Trends: |██████████| 36/36 [00:00<00:00, 120.69it/s]|\n",
      "Column Pair Trends Score: 89.29%\n",
      "\n",
      "Overall Score (Average): 89.68%\n",
      "\n"
     ]
    }
   ],
   "source": [
    "from sdv.evaluation.single_table import evaluate_quality\n",
    "\n",
    "quality_report = evaluate_quality(\n",
    "    real_data,\n",
    "    synthetic_data,\n",
    "    metadata\n",
    ")"
   ]
  },
  {
   "cell_type": "markdown",
   "id": "70bcb247",
   "metadata": {},
   "source": [
    "### Get details on column shapes"
   ]
  },
  {
   "cell_type": "code",
   "execution_count": 10,
   "id": "97c31269",
   "metadata": {},
   "outputs": [
    {
     "data": {
      "text/html": [
       "<div>\n",
       "<style scoped>\n",
       "    .dataframe tbody tr th:only-of-type {\n",
       "        vertical-align: middle;\n",
       "    }\n",
       "\n",
       "    .dataframe tbody tr th {\n",
       "        vertical-align: top;\n",
       "    }\n",
       "\n",
       "    .dataframe thead th {\n",
       "        text-align: right;\n",
       "    }\n",
       "</style>\n",
       "<table border=\"1\" class=\"dataframe\">\n",
       "  <thead>\n",
       "    <tr style=\"text-align: right;\">\n",
       "      <th></th>\n",
       "      <th>Column</th>\n",
       "      <th>Metric</th>\n",
       "      <th>Score</th>\n",
       "    </tr>\n",
       "  </thead>\n",
       "  <tbody>\n",
       "    <tr>\n",
       "      <th>0</th>\n",
       "      <td>has_rewards</td>\n",
       "      <td>TVComplement</td>\n",
       "      <td>0.982000</td>\n",
       "    </tr>\n",
       "    <tr>\n",
       "      <th>1</th>\n",
       "      <td>room_type</td>\n",
       "      <td>TVComplement</td>\n",
       "      <td>0.984000</td>\n",
       "    </tr>\n",
       "    <tr>\n",
       "      <th>2</th>\n",
       "      <td>amenities_fee</td>\n",
       "      <td>KSComplement</td>\n",
       "      <td>0.764778</td>\n",
       "    </tr>\n",
       "    <tr>\n",
       "      <th>3</th>\n",
       "      <td>checkin_date</td>\n",
       "      <td>KSComplement</td>\n",
       "      <td>0.962000</td>\n",
       "    </tr>\n",
       "    <tr>\n",
       "      <th>4</th>\n",
       "      <td>checkout_date</td>\n",
       "      <td>KSComplement</td>\n",
       "      <td>0.968750</td>\n",
       "    </tr>\n",
       "    <tr>\n",
       "      <th>5</th>\n",
       "      <td>room_rate</td>\n",
       "      <td>KSComplement</td>\n",
       "      <td>0.742000</td>\n",
       "    </tr>\n",
       "  </tbody>\n",
       "</table>\n",
       "</div>"
      ],
      "text/plain": [
       "          Column        Metric     Score\n",
       "0    has_rewards  TVComplement  0.982000\n",
       "1      room_type  TVComplement  0.984000\n",
       "2  amenities_fee  KSComplement  0.764778\n",
       "3   checkin_date  KSComplement  0.962000\n",
       "4  checkout_date  KSComplement  0.968750\n",
       "5      room_rate  KSComplement  0.742000"
      ]
     },
     "execution_count": 10,
     "metadata": {},
     "output_type": "execute_result"
    }
   ],
   "source": [
    "quality_report.get_details('Column Shapes')"
   ]
  },
  {
   "cell_type": "markdown",
   "id": "a581887e",
   "metadata": {},
   "source": [
    "### Visualize real vs. synthetic data"
   ]
  },
  {
   "cell_type": "code",
   "execution_count": 12,
   "id": "a57f1d23",
   "metadata": {},
   "outputs": [
    {
     "data": {
      "text/html": [
       "<iframe\n",
       "    scrolling=\"no\"\n",
       "    width=\"100%\"\n",
       "    height=\"545px\"\n",
       "    src=\"iframe_figures/figure_12.html\"\n",
       "    frameborder=\"0\"\n",
       "    allowfullscreen\n",
       "></iframe>\n"
      ]
     },
     "metadata": {},
     "output_type": "display_data"
    }
   ],
   "source": [
    "from sdv.evaluation.single_table import get_column_plot\n",
    "\n",
    "fig = get_column_plot(\n",
    "    real_data=real_data,\n",
    "    synthetic_data=synthetic_data,\n",
    "    column_name='room_rate',\n",
    "    metadata=metadata\n",
    ")\n",
    "\n",
    "fig.show()"
   ]
  },
  {
   "cell_type": "markdown",
   "id": "64489761",
   "metadata": {},
   "source": [
    "### Visualize in 2D (column pair plot)"
   ]
  },
  {
   "cell_type": "code",
   "execution_count": null,
   "id": "0a9f474a",
   "metadata": {},
   "outputs": [],
   "source": [
    "from sdv.evaluation.single_table import get_column_pair_plot\n",
    "\n",
    "fig = get_column_pair_plot(\n",
    "    fig_size=(6, 4),\n",
    "    real_data=real_data,\n",
    "    synthetic_data=synthetic_data,\n",
    "    column_names=['room_rate', 'room_type'],\n",
    "    metadata=metadata\n",
    ")\n",
    "\n",
    "fig.show()"
   ]
  },
  {
   "cell_type": "markdown",
   "id": "f81fb548",
   "metadata": {},
   "source": [
    "### Anonymize sensitive data (PII)"
   ]
  },
  {
   "cell_type": "code",
   "execution_count": null,
   "id": "3ffcc60e",
   "metadata": {},
   "outputs": [],
   "source": [
    "sensitive_column_names = ['guest_email', 'billing_address', 'credit_card_number']\n",
    "\n",
    "real_data[sensitive_column_names].head()"
   ]
  },
  {
   "cell_type": "markdown",
   "id": "623dfdad",
   "metadata": {},
   "source": [
    "### Compare desensitized data vs. real data (above)"
   ]
  },
  {
   "cell_type": "code",
   "execution_count": null,
   "id": "380365d1",
   "metadata": {},
   "outputs": [],
   "source": [
    "synthetic_data[sensitive_column_names].head()"
   ]
  },
  {
   "cell_type": "markdown",
   "id": "20a687b8",
   "metadata": {},
   "source": [
    "### Save the current state of synthesized data\n",
    "* Useful when sharing with others or synthesizing more data in the future"
   ]
  },
  {
   "cell_type": "code",
   "execution_count": null,
   "id": "7143b0b6",
   "metadata": {},
   "outputs": [],
   "source": [
    "synthesizer.save('my_synthesizer.pkl')\n",
    "\n",
    "synthesizer = GaussianCopulaSynthesizer.load('my_synthesizer.pkl')"
   ]
  },
  {
   "cell_type": "markdown",
   "id": "5650fc91",
   "metadata": {},
   "source": [
    "## Gaussian Copula customization"
   ]
  },
  {
   "cell_type": "code",
   "execution_count": null,
   "id": "2dc25fa7",
   "metadata": {},
   "outputs": [],
   "source": [
    "custom_synthesizer = GaussianCopulaSynthesizer(\n",
    "    metadata,\n",
    "    default_distribution='truncnorm',\n",
    "    numerical_distributions={\n",
    "        'checkin_date': 'uniform',\n",
    "        'checkout_date': 'uniform',\n",
    "        'room_rate': 'gaussian_kde'\n",
    "    }\n",
    ")\n",
    "\n",
    "custom_synthesizer.fit(real_data)"
   ]
  },
  {
   "cell_type": "markdown",
   "id": "d2d85307",
   "metadata": {},
   "source": [
    "#### Inspect the distributions after training.\n",
    "This synthesizer returns a learned parameter during `truncnorm` distribution.\n",
    "* <a href=\"https://docs.scipy.org/doc/scipy/reference/generated/scipy.stats.truncnorm.html\">More information</a> available in `scipy` truncnorm distribution documentation.  "
   ]
  },
  {
   "cell_type": "code",
   "execution_count": null,
   "id": "1bb17f93",
   "metadata": {},
   "outputs": [],
   "source": [
    "learned_distributions = custom_synthesizer.get_learned_distributions()\n",
    "learned_distributions['has_rewards']"
   ]
  },
  {
   "cell_type": "markdown",
   "id": "db7e529d",
   "metadata": {},
   "source": [
    "* By strategically setting distributions, tradeoffs can be made in the quality of synthetic data."
   ]
  },
  {
   "cell_type": "code",
   "execution_count": null,
   "id": "b409e580",
   "metadata": {},
   "outputs": [],
   "source": [
    "synthetic_data_customized = custom_synthesizer.sample(num_rows=500)\n",
    "\n",
    "quality_report = evaluate_quality(\n",
    "    real_data,\n",
    "    synthetic_data_customized,\n",
    "    metadata\n",
    ")"
   ]
  },
  {
   "cell_type": "markdown",
   "id": "50c1c41f",
   "metadata": {},
   "source": [
    "### Visualize customized synthetic data"
   ]
  },
  {
   "cell_type": "code",
   "execution_count": null,
   "id": "efb45880",
   "metadata": {},
   "outputs": [],
   "source": [
    "fig = get_column_plot(\n",
    "    real_data=real_data,\n",
    "    synthetic_data=synthetic_data_customized,\n",
    "    column_name='room_rate',\n",
    "    metadata=metadata\n",
    ")\n",
    "\n",
    "fig.show()"
   ]
  },
  {
   "cell_type": "markdown",
   "id": "a0adb6c4",
   "metadata": {},
   "source": [
    "### Conditional Sampling\n",
    "* Simulate hypothetical scenarios by using Gaussian Copula to efficiently sample conditions.\n",
    "* In the below example, every guest is staying in a `suite` <i>(1/2 w/ rewards, 1/2 without)</i>"
   ]
  },
  {
   "cell_type": "code",
   "execution_count": null,
   "id": "af714de5",
   "metadata": {},
   "outputs": [],
   "source": [
    "from sdv.sampling import Condition\n",
    "\n",
    "suite_guests_with_rewards = Condition(\n",
    "    num_rows=250,\n",
    "    column_values={'room_type': 'SUITE', 'has_rewards': True}\n",
    ")\n",
    "\n",
    "suite_guests_without_rewards = Condition(\n",
    "    num_rows=250,\n",
    "    column_values={'room_type': 'SUITE', 'has_rewards': False}\n",
    ")"
   ]
  },
  {
   "cell_type": "markdown",
   "id": "614dc5c4",
   "metadata": {},
   "source": [
    "### Simulate the scenario using the trained synthesizer"
   ]
  },
  {
   "cell_type": "code",
   "execution_count": null,
   "id": "4909144a",
   "metadata": {},
   "outputs": [],
   "source": [
    "simulated_synthetic_data = custom_synthesizer.sample_from_conditions(conditions=[\n",
    "  suite_guests_with_rewards,\n",
    "  suite_guests_without_rewards\n",
    "])"
   ]
  },
  {
   "cell_type": "markdown",
   "id": "cf63a652",
   "metadata": {},
   "source": [
    "### Visualize the data"
   ]
  },
  {
   "cell_type": "code",
   "execution_count": null,
   "id": "9172c98e",
   "metadata": {},
   "outputs": [],
   "source": [
    "fig = get_column_plot(\n",
    "    fig_size=(6, 4),\n",
    "    real_data=real_data,\n",
    "    synthetic_data=simulated_synthetic_data,\n",
    "    column_name='room_type',\n",
    "    metadata=metadata\n",
    ")\n",
    "\n",
    "fig.update_layout(\n",
    "    title='Using synthetic data to simulate room_type scenario'\n",
    ")\n",
    "\n",
    "fig.show()"
   ]
  },
  {
   "cell_type": "markdown",
   "id": "3109e2f1",
   "metadata": {},
   "source": []
  }
 ],
 "metadata": {
  "kernelspec": {
   "display_name": ".venv",
   "language": "python",
   "name": "python3"
  },
  "language_info": {
   "codemirror_mode": {
    "name": "ipython",
    "version": 3
   },
   "file_extension": ".py",
   "mimetype": "text/x-python",
   "name": "python",
   "nbconvert_exporter": "python",
   "pygments_lexer": "ipython3",
   "version": "3.12.2"
  }
 },
 "nbformat": 4,
 "nbformat_minor": 5
}
