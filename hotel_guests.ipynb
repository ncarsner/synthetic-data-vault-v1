{
 "cells": [
  {
   "cell_type": "markdown",
   "id": "3d4d0b52",
   "metadata": {},
   "source": [
    "### Install SDV Community"
   ]
  },
  {
   "cell_type": "code",
   "execution_count": null,
   "id": "0ed71469",
   "metadata": {},
   "outputs": [],
   "source": [
    "%pip install sdv"
   ]
  },
  {
   "cell_type": "markdown",
   "id": "2c5cbf72",
   "metadata": {},
   "source": [
    "### Install ipykernal && nbformat to avoid Mime type rendering issues with visualizations\n",
    "* `ValueError: Mime type rendering requires nbformat>=4.2.0 but it is not installed`"
   ]
  },
  {
   "cell_type": "code",
   "execution_count": null,
   "id": "a1b9cafa",
   "metadata": {},
   "outputs": [],
   "source": [
    "%pip install ipykernel\n",
    "%pip install --upgrade nbformat"
   ]
  },
  {
   "cell_type": "markdown",
   "id": "d55669a5",
   "metadata": {},
   "source": [
    "### Load demo data"
   ]
  },
  {
   "cell_type": "code",
   "execution_count": null,
   "id": "4cde219e",
   "metadata": {},
   "outputs": [],
   "source": [
    "from sdv.datasets.demo import download_demo\n",
    "\n",
    "real_data, metadata = download_demo(\n",
    "    modality='single_table',\n",
    "    dataset_name='fake_hotel_guests'\n",
    ")"
   ]
  },
  {
   "cell_type": "markdown",
   "id": "fb7c0ff5",
   "metadata": {},
   "source": [
    "### Preview demo data"
   ]
  },
  {
   "cell_type": "code",
   "execution_count": null,
   "id": "66a7d3fb",
   "metadata": {},
   "outputs": [],
   "source": [
    "real_data.head()"
   ]
  },
  {
   "cell_type": "markdown",
   "id": "aef2d4d5",
   "metadata": {},
   "source": [
    "### Visualize metadata"
   ]
  },
  {
   "cell_type": "code",
   "execution_count": null,
   "id": "e8ed3b75",
   "metadata": {},
   "outputs": [],
   "source": [
    "metadata.visualize()"
   ]
  },
  {
   "cell_type": "markdown",
   "id": "04df9181",
   "metadata": {},
   "source": [
    "### Create a synthesizer"
   ]
  },
  {
   "cell_type": "code",
   "execution_count": null,
   "id": "bea025bc",
   "metadata": {},
   "outputs": [],
   "source": [
    "from sdv.single_table import GaussianCopulaSynthesizer\n",
    "\n",
    "synthesizer = GaussianCopulaSynthesizer(metadata)\n",
    "synthesizer.fit(real_data)"
   ]
  },
  {
   "cell_type": "markdown",
   "id": "1b32d4f3",
   "metadata": {},
   "source": [
    "### Generate synthetic data"
   ]
  },
  {
   "cell_type": "code",
   "execution_count": null,
   "id": "ea2bff95",
   "metadata": {},
   "outputs": [],
   "source": [
    "synthetic_data = synthesizer.sample(num_rows=500)\n",
    "synthetic_data.head()"
   ]
  },
  {
   "cell_type": "markdown",
   "id": "ec2ec1a0",
   "metadata": {},
   "source": [
    "### Evaluate real vs. synthetic data\n",
    "* Run diagnostic to ensure data is valid"
   ]
  },
  {
   "cell_type": "code",
   "execution_count": null,
   "id": "7634033d",
   "metadata": {},
   "outputs": [],
   "source": [
    "from sdv.evaluation.single_table import run_diagnostic\n",
    "\n",
    "diagnostic = run_diagnostic(\n",
    "    real_data=real_data,\n",
    "    synthetic_data=synthetic_data,\n",
    "    metadata=metadata\n",
    ")"
   ]
  },
  {
   "cell_type": "markdown",
   "id": "2d877f55",
   "metadata": {},
   "source": [
    "* Measure data quality between real and synthetic data"
   ]
  },
  {
   "cell_type": "code",
   "execution_count": null,
   "id": "1b75f753",
   "metadata": {},
   "outputs": [],
   "source": [
    "from sdv.evaluation.single_table import evaluate_quality\n",
    "\n",
    "quality_report = evaluate_quality(\n",
    "    real_data,\n",
    "    synthetic_data,\n",
    "    metadata\n",
    ")"
   ]
  },
  {
   "cell_type": "markdown",
   "id": "70bcb247",
   "metadata": {},
   "source": [
    "### Get details on column shapes"
   ]
  },
  {
   "cell_type": "code",
   "execution_count": null,
   "id": "97c31269",
   "metadata": {},
   "outputs": [],
   "source": [
    "quality_report.get_details('Column Shapes')"
   ]
  },
  {
   "cell_type": "markdown",
   "id": "a581887e",
   "metadata": {},
   "source": [
    "### Visualize real vs. synthetic data"
   ]
  },
  {
   "cell_type": "code",
   "execution_count": null,
   "id": "a57f1d23",
   "metadata": {},
   "outputs": [],
   "source": [
    "from sdv.evaluation.single_table import get_column_plot\n",
    "\n",
    "fig = get_column_plot(\n",
    "    real_data=real_data,\n",
    "    synthetic_data=synthetic_data,\n",
    "    metadata=metadata,\n",
    "    column_name='room_rate'\n",
    ")\n",
    "\n",
    "fig.show()"
   ]
  },
  {
   "cell_type": "markdown",
   "id": "64489761",
   "metadata": {},
   "source": [
    "### Visualize in 2D (column pair plot)"
   ]
  },
  {
   "cell_type": "code",
   "execution_count": null,
   "id": "0a9f474a",
   "metadata": {},
   "outputs": [],
   "source": [
    "from sdv.evaluation.single_table import get_column_pair_plot\n",
    "\n",
    "fig = get_column_pair_plot(\n",
    "    real_data=real_data,\n",
    "    synthetic_data=synthetic_data,\n",
    "    column_names=['room_rate', 'room_type'],\n",
    "    metadata=metadata\n",
    ")\n",
    "\n",
    "fig.show()"
   ]
  },
  {
   "cell_type": "markdown",
   "id": "f81fb548",
   "metadata": {},
   "source": [
    "### Anonymize sensitive data (PII)"
   ]
  },
  {
   "cell_type": "code",
   "execution_count": null,
   "id": "3ffcc60e",
   "metadata": {},
   "outputs": [],
   "source": [
    "sensitive_column_names = ['guest_email', 'billing_address', 'credit_card_number']\n",
    "\n",
    "real_data[sensitive_column_names].head()"
   ]
  },
  {
   "cell_type": "markdown",
   "id": "623dfdad",
   "metadata": {},
   "source": [
    "### Compare desensitized data vs. real data (above)"
   ]
  },
  {
   "cell_type": "code",
   "execution_count": null,
   "id": "380365d1",
   "metadata": {},
   "outputs": [],
   "source": [
    "synthetic_data[sensitive_column_names].head()"
   ]
  },
  {
   "cell_type": "markdown",
   "id": "20a687b8",
   "metadata": {},
   "source": [
    "### Save the current state of synthesized data\n",
    "* Useful when sharing with others or synthesizing more data in the future"
   ]
  },
  {
   "cell_type": "code",
   "execution_count": null,
   "id": "7143b0b6",
   "metadata": {},
   "outputs": [],
   "source": [
    "synthesizer.save('my_synthesizer.pkl')\n",
    "\n",
    "synthesizer = GaussianCopulaSynthesizer.load('my_synthesizer.pkl')"
   ]
  },
  {
   "cell_type": "markdown",
   "id": "5650fc91",
   "metadata": {},
   "source": [
    "## Gaussian Copula customization"
   ]
  },
  {
   "cell_type": "code",
   "execution_count": null,
   "id": "2dc25fa7",
   "metadata": {},
   "outputs": [],
   "source": [
    "custom_synthesizer = GaussianCopulaSynthesizer(\n",
    "    metadata,\n",
    "    default_distribution='truncnorm',\n",
    "    numerical_distributions={\n",
    "        'checkin_date': 'uniform',\n",
    "        'checkout_date': 'uniform',\n",
    "        'room_rate': 'gaussian_kde'\n",
    "    }\n",
    ")\n",
    "\n",
    "custom_synthesizer.fit(real_data)"
   ]
  },
  {
   "cell_type": "markdown",
   "id": "d2d85307",
   "metadata": {},
   "source": [
    "#### Inspect the distributions after training.\n",
    "This synthesizer returns a learned parameter during `truncnorm` distribution.\n",
    "* <a href=\"https://docs.scipy.org/doc/scipy/reference/generated/scipy.stats.truncnorm.html\">More information</a> available in `scipy` truncnorm distribution documentation.  "
   ]
  },
  {
   "cell_type": "code",
   "execution_count": null,
   "id": "1bb17f93",
   "metadata": {},
   "outputs": [],
   "source": [
    "learned_distributions = custom_synthesizer.get_learned_distributions()\n",
    "learned_distributions['has_rewards']"
   ]
  },
  {
   "cell_type": "markdown",
   "id": "db7e529d",
   "metadata": {},
   "source": [
    "* By strategically setting distributions, tradeoffs can be made in the quality of synthetic data."
   ]
  },
  {
   "cell_type": "code",
   "execution_count": null,
   "id": "b409e580",
   "metadata": {},
   "outputs": [],
   "source": [
    "synthetic_data_customized = custom_synthesizer.sample(num_rows=500)\n",
    "\n",
    "quality_report = evaluate_quality(\n",
    "    real_data,\n",
    "    synthetic_data_customized,\n",
    "    metadata\n",
    ")"
   ]
  },
  {
   "cell_type": "markdown",
   "id": "50c1c41f",
   "metadata": {},
   "source": [
    "### Visualize customized synthetic data"
   ]
  },
  {
   "cell_type": "code",
   "execution_count": null,
   "id": "efb45880",
   "metadata": {},
   "outputs": [],
   "source": [
    "fig = get_column_plot(\n",
    "    real_data=real_data,\n",
    "    synthetic_data=synthetic_data_customized,\n",
    "    column_name='room_rate',\n",
    "    metadata=metadata\n",
    ")\n",
    "\n",
    "fig.show()"
   ]
  },
  {
   "cell_type": "markdown",
   "id": "a0adb6c4",
   "metadata": {},
   "source": [
    "### Conditional Sampling\n",
    "* Simulate hypothetical scenarios by using Gaussian Copula to efficiently sample conditions.\n",
    "* In the below example, every guest is staying in a `suite` <i>(1/2 w/ rewards, 1/2 without)</i>"
   ]
  },
  {
   "cell_type": "code",
   "execution_count": null,
   "id": "af714de5",
   "metadata": {},
   "outputs": [],
   "source": [
    "from sdv.sampling import Condition\n",
    "\n",
    "suite_guests_with_rewards = Condition(\n",
    "    num_rows=250,\n",
    "    column_values={'room_type': 'SUITE', 'has_rewards': True}\n",
    ")\n",
    "\n",
    "suite_guests_without_rewards = Condition(\n",
    "    num_rows=250,\n",
    "    column_values={'room_type': 'SUITE', 'has_rewards': False}\n",
    ")"
   ]
  },
  {
   "cell_type": "markdown",
   "id": "614dc5c4",
   "metadata": {},
   "source": [
    "### Simulate the scenario using the trained synthesizer"
   ]
  },
  {
   "cell_type": "code",
   "execution_count": null,
   "id": "4909144a",
   "metadata": {},
   "outputs": [],
   "source": [
    "simulated_synthetic_data = custom_synthesizer.sample_from_conditions(conditions=[\n",
    "  suite_guests_with_rewards,\n",
    "  suite_guests_without_rewards\n",
    "])"
   ]
  },
  {
   "cell_type": "markdown",
   "id": "cf63a652",
   "metadata": {},
   "source": [
    "### Visualize the data"
   ]
  },
  {
   "cell_type": "code",
   "execution_count": null,
   "id": "9172c98e",
   "metadata": {},
   "outputs": [],
   "source": [
    "fig = get_column_plot(\n",
    "    real_data=real_data,\n",
    "    synthetic_data=simulated_synthetic_data,\n",
    "    column_name='room_type',\n",
    "    metadata=metadata\n",
    ")\n",
    "\n",
    "fig.update_layout(\n",
    "    title='Using synthetic data to simulate room_type scenario'\n",
    ")\n",
    "\n",
    "fig.show()"
   ]
  },
  {
   "cell_type": "markdown",
   "id": "3109e2f1",
   "metadata": {},
   "source": []
  }
 ],
 "metadata": {
  "kernelspec": {
   "display_name": ".venv",
   "language": "python",
   "name": "python3"
  },
  "language_info": {
   "codemirror_mode": {
    "name": "ipython",
    "version": 3
   },
   "file_extension": ".py",
   "mimetype": "text/x-python",
   "name": "python",
   "nbconvert_exporter": "python",
   "pygments_lexer": "ipython3",
   "version": "3.12.2"
  }
 },
 "nbformat": 4,
 "nbformat_minor": 5
}
